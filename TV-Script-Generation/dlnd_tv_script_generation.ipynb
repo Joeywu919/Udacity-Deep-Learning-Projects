{
 "cells": [
  {
   "cell_type": "markdown",
   "metadata": {},
   "source": [
    "# TV Script Generation\n",
    "In this project, you'll generate your own [Simpsons](https://en.wikipedia.org/wiki/The_Simpsons) TV scripts using RNNs.  You'll be using part of the [Simpsons dataset](https://www.kaggle.com/wcukierski/the-simpsons-by-the-data) of scripts from 27 seasons.  The Neural Network you'll build will generate a new TV script for a scene at [Moe's Tavern](https://simpsonswiki.com/wiki/Moe's_Tavern).\n",
    "## Get the Data\n",
    "The data is already provided for you.  You'll be using a subset of the original dataset.  It consists of only the scenes in Moe's Tavern.  This doesn't include other versions of the tavern, like \"Moe's Cavern\", \"Flaming Moe's\", \"Uncle Moe's Family Feed-Bag\", etc.."
   ]
  },
  {
   "cell_type": "code",
   "execution_count": 1,
   "metadata": {},
   "outputs": [],
   "source": [
    "\"\"\"\n",
    "DON'T MODIFY ANYTHING IN THIS CELL\n",
    "\"\"\"\n",
    "import helper\n",
    "\n",
    "data_dir = './data/simpsons/moes_tavern_lines.txt'\n",
    "text = helper.load_data(data_dir)\n",
    "# Ignore notice, since we don't use it for analysing the data\n",
    "text = text[81:]"
   ]
  },
  {
   "cell_type": "markdown",
   "metadata": {},
   "source": [
    "## Explore the Data\n",
    "Play around with `view_sentence_range` to view different parts of the data."
   ]
  },
  {
   "cell_type": "code",
   "execution_count": 2,
   "metadata": {},
   "outputs": [
    {
     "name": "stdout",
     "output_type": "stream",
     "text": [
      "Dataset Stats\n",
      "Roughly the number of unique words: 11492\n",
      "Number of scenes: 262\n",
      "Average number of sentences in each scene: 15.248091603053435\n",
      "Number of lines: 4257\n",
      "Average number of words in each line: 11.50434578341555\n",
      "\n",
      "The sentences 0 to 10:\n",
      "Moe_Szyslak: (INTO PHONE) Moe's Tavern. Where the elite meet to drink.\n",
      "Bart_Simpson: Eh, yeah, hello, is Mike there? Last name, Rotch.\n",
      "Moe_Szyslak: (INTO PHONE) Hold on, I'll check. (TO BARFLIES) Mike Rotch. Mike Rotch. Hey, has anybody seen Mike Rotch, lately?\n",
      "Moe_Szyslak: (INTO PHONE) Listen you little puke. One of these days I'm gonna catch you, and I'm gonna carve my name on your back with an ice pick.\n",
      "Moe_Szyslak: What's the matter Homer? You're not your normal effervescent self.\n",
      "Homer_Simpson: I got my problems, Moe. Give me another one.\n",
      "Moe_Szyslak: Homer, hey, you should not drink to forget your problems.\n",
      "Barney_Gumble: Yeah, you should only drink to enhance your social skills.\n",
      "\n",
      "\n"
     ]
    }
   ],
   "source": [
    "view_sentence_range = (0, 10)\n",
    "\n",
    "\"\"\"\n",
    "DON'T MODIFY ANYTHING IN THIS CELL\n",
    "\"\"\"\n",
    "import numpy as np\n",
    "\n",
    "print('Dataset Stats')\n",
    "print('Roughly the number of unique words: {}'.format(len({word: None for word in text.split()})))\n",
    "scenes = text.split('\\n\\n')\n",
    "print('Number of scenes: {}'.format(len(scenes)))\n",
    "sentence_count_scene = [scene.count('\\n') for scene in scenes]\n",
    "print('Average number of sentences in each scene: {}'.format(np.average(sentence_count_scene)))\n",
    "\n",
    "sentences = [sentence for scene in scenes for sentence in scene.split('\\n')]\n",
    "print('Number of lines: {}'.format(len(sentences)))\n",
    "word_count_sentence = [len(sentence.split()) for sentence in sentences]\n",
    "print('Average number of words in each line: {}'.format(np.average(word_count_sentence)))\n",
    "\n",
    "print()\n",
    "print('The sentences {} to {}:'.format(*view_sentence_range))\n",
    "print('\\n'.join(text.split('\\n')[view_sentence_range[0]:view_sentence_range[1]]))"
   ]
  },
  {
   "cell_type": "markdown",
   "metadata": {},
   "source": [
    "## Implement Preprocessing Functions\n",
    "The first thing to do to any dataset is preprocessing.  Implement the following preprocessing functions below:\n",
    "- Lookup Table\n",
    "- Tokenize Punctuation\n",
    "\n",
    "### Lookup Table\n",
    "To create a word embedding, you first need to transform the words to ids.  In this function, create two dictionaries:\n",
    "- Dictionary to go from the words to an id, we'll call `vocab_to_int`\n",
    "- Dictionary to go from the id to word, we'll call `int_to_vocab`\n",
    "\n",
    "Return these dictionaries in the following tuple `(vocab_to_int, int_to_vocab)`"
   ]
  },
  {
   "cell_type": "code",
   "execution_count": 3,
   "metadata": {},
   "outputs": [
    {
     "name": "stdout",
     "output_type": "stream",
     "text": [
      "Tests Passed\n"
     ]
    }
   ],
   "source": [
    "import numpy as np\n",
    "import problem_unittests as tests\n",
    "\n",
    "def create_lookup_tables(text):\n",
    "    \"\"\"\n",
    "    Create lookup tables for vocabulary\n",
    "    :param text: The text of tv scripts split into words\n",
    "    :return: A tuple of dicts (vocab_to_int, int_to_vocab)\n",
    "    \"\"\"\n",
    "    # TODO: Implement Function\n",
    "    words = set(text)\n",
    "    vocab_to_int = {word: ii for ii, word in enumerate(words)}\n",
    "    int_to_vocab = {ii: word for ii, word in enumerate(words)}\n",
    "    return vocab_to_int, int_to_vocab\n",
    "\n",
    "\n",
    "\"\"\"\n",
    "DON'T MODIFY ANYTHING IN THIS CELL THAT IS BELOW THIS LINE\n",
    "\"\"\"\n",
    "tests.test_create_lookup_tables(create_lookup_tables)"
   ]
  },
  {
   "cell_type": "markdown",
   "metadata": {},
   "source": [
    "### Tokenize Punctuation\n",
    "We'll be splitting the script into a word array using spaces as delimiters.  However, punctuations like periods and exclamation marks make it hard for the neural network to distinguish between the word \"bye\" and \"bye!\".\n",
    "\n",
    "Implement the function `token_lookup` to return a dict that will be used to tokenize symbols like \"!\" into \"||Exclamation_Mark||\".  Create a dictionary for the following symbols where the symbol is the key and value is the token:\n",
    "- Period ( . )\n",
    "- Comma ( , )\n",
    "- Quotation Mark ( \" )\n",
    "- Semicolon ( ; )\n",
    "- Exclamation mark ( ! )\n",
    "- Question mark ( ? )\n",
    "- Left Parentheses ( ( )\n",
    "- Right Parentheses ( ) )\n",
    "- Dash ( -- )\n",
    "- Return ( \\n )\n",
    "\n",
    "This dictionary will be used to token the symbols and add the delimiter (space) around it.  This separates the symbols as it's own word, making it easier for the neural network to predict on the next word. Make sure you don't use a token that could be confused as a word. Instead of using the token \"dash\", try using something like \"||dash||\"."
   ]
  },
  {
   "cell_type": "code",
   "execution_count": 4,
   "metadata": {},
   "outputs": [
    {
     "name": "stdout",
     "output_type": "stream",
     "text": [
      "Tests Passed\n"
     ]
    }
   ],
   "source": [
    "def token_lookup():\n",
    "    \"\"\"\n",
    "    Generate a dict to turn punctuation into a token.\n",
    "    :return: Tokenize dictionary where the key is the punctuation and the value is the token\n",
    "    \"\"\"\n",
    "    # TODO: Implement Function\n",
    "    Token = dict()\n",
    "    Token['.'] = '||Period||'\n",
    "    Token[','] = '||Comma||'\n",
    "    Token['\"'] = '||Quotationmark||'\n",
    "    Token[';'] = '||Semicolon||'\n",
    "    Token['!'] = '||Exclamationmark||'\n",
    "    Token['?'] = '||Qestionmark||'\n",
    "    Token['('] = '||Left_parentheses||'\n",
    "    Token[')'] = '||Right_parentheses||'\n",
    "    Token['--'] = '||Dash||'\n",
    "    Token['\\n'] = '||Return||'\n",
    "    \n",
    "    return Token\n",
    "\n",
    "\"\"\"\n",
    "DON'T MODIFY ANYTHING IN THIS CELL THAT IS BELOW THIS LINE\n",
    "\"\"\"\n",
    "tests.test_tokenize(token_lookup)"
   ]
  },
  {
   "cell_type": "markdown",
   "metadata": {},
   "source": [
    "## Preprocess all the data and save it\n",
    "Running the code cell below will preprocess all the data and save it to file."
   ]
  },
  {
   "cell_type": "code",
   "execution_count": 5,
   "metadata": {},
   "outputs": [],
   "source": [
    "\"\"\"\n",
    "DON'T MODIFY ANYTHING IN THIS CELL\n",
    "\"\"\"\n",
    "# Preprocess Training, Validation, and Testing Data\n",
    "helper.preprocess_and_save_data(data_dir, token_lookup, create_lookup_tables)"
   ]
  },
  {
   "cell_type": "markdown",
   "metadata": {},
   "source": [
    "# Check Point\n",
    "This is your first checkpoint. If you ever decide to come back to this notebook or have to restart the notebook, you can start from here. The preprocessed data has been saved to disk."
   ]
  },
  {
   "cell_type": "code",
   "execution_count": 6,
   "metadata": {},
   "outputs": [],
   "source": [
    "\"\"\"\n",
    "DON'T MODIFY ANYTHING IN THIS CELL\n",
    "\"\"\"\n",
    "import helper\n",
    "import numpy as np\n",
    "import problem_unittests as tests\n",
    "\n",
    "int_text, vocab_to_int, int_to_vocab, token_dict = helper.load_preprocess()"
   ]
  },
  {
   "cell_type": "markdown",
   "metadata": {},
   "source": [
    "## Build the Neural Network\n",
    "You'll build the components necessary to build a RNN by implementing the following functions below:\n",
    "- get_inputs\n",
    "- get_init_cell\n",
    "- get_embed\n",
    "- build_rnn\n",
    "- build_nn\n",
    "- get_batches\n",
    "\n",
    "### Check the Version of TensorFlow and Access to GPU"
   ]
  },
  {
   "cell_type": "code",
   "execution_count": 7,
   "metadata": {},
   "outputs": [
    {
     "name": "stdout",
     "output_type": "stream",
     "text": [
      "TensorFlow Version: 1.3.0\n",
      "Default GPU Device: /gpu:0\n"
     ]
    }
   ],
   "source": [
    "\"\"\"\n",
    "DON'T MODIFY ANYTHING IN THIS CELL\n",
    "\"\"\"\n",
    "from distutils.version import LooseVersion\n",
    "import warnings\n",
    "import tensorflow as tf\n",
    "\n",
    "# Check TensorFlow Version\n",
    "assert LooseVersion(tf.__version__) >= LooseVersion('1.3'), 'Please use TensorFlow version 1.3 or newer'\n",
    "print('TensorFlow Version: {}'.format(tf.__version__))\n",
    "\n",
    "# Check for a GPU\n",
    "if not tf.test.gpu_device_name():\n",
    "    warnings.warn('No GPU found. Please use a GPU to train your neural network.')\n",
    "else:\n",
    "    print('Default GPU Device: {}'.format(tf.test.gpu_device_name()))"
   ]
  },
  {
   "cell_type": "markdown",
   "metadata": {},
   "source": [
    "### Input\n",
    "Implement the `get_inputs()` function to create TF Placeholders for the Neural Network.  It should create the following placeholders:\n",
    "- Input text placeholder named \"input\" using the [TF Placeholder](https://www.tensorflow.org/api_docs/python/tf/placeholder) `name` parameter.\n",
    "- Targets placeholder\n",
    "- Learning Rate placeholder\n",
    "\n",
    "Return the placeholders in the following tuple `(Input, Targets, LearningRate)`"
   ]
  },
  {
   "cell_type": "code",
   "execution_count": 8,
   "metadata": {},
   "outputs": [
    {
     "name": "stdout",
     "output_type": "stream",
     "text": [
      "Tests Passed\n"
     ]
    }
   ],
   "source": [
    "def get_inputs():\n",
    "    \"\"\"\n",
    "    Create TF Placeholders for input, targets, and learning rate.\n",
    "    :return: Tuple (input, targets, learning rate)\n",
    "    \"\"\"\n",
    "    # TODO: Implement Function\n",
    "    input = tf.placeholder(tf.int32, shape = (None, None), name = 'input')\n",
    "    targets = tf.placeholder(tf.int32, shape = (None, None), name = 'targets')\n",
    "    learning_rate = tf.placeholder(tf.float32, name = 'learning_rate')\n",
    "    return input, targets, learning_rate\n",
    "\n",
    "\n",
    "\"\"\"\n",
    "DON'T MODIFY ANYTHING IN THIS CELL THAT IS BELOW THIS LINE\n",
    "\"\"\"\n",
    "tests.test_get_inputs(get_inputs)"
   ]
  },
  {
   "cell_type": "markdown",
   "metadata": {},
   "source": [
    "### Build RNN Cell and Initialize\n",
    "Stack one or more [`BasicLSTMCells`](https://www.tensorflow.org/api_docs/python/tf/contrib/rnn/BasicLSTMCell) in a [`MultiRNNCell`](https://www.tensorflow.org/api_docs/python/tf/contrib/rnn/MultiRNNCell).\n",
    "- The Rnn size should be set using `rnn_size`\n",
    "- Initalize Cell State using the MultiRNNCell's [`zero_state()`](https://www.tensorflow.org/api_docs/python/tf/contrib/rnn/MultiRNNCell#zero_state) function\n",
    "    - Apply the name \"initial_state\" to the initial state using [`tf.identity()`](https://www.tensorflow.org/api_docs/python/tf/identity)\n",
    "\n",
    "Return the cell and initial state in the following tuple `(Cell, InitialState)`"
   ]
  },
  {
   "cell_type": "code",
   "execution_count": 9,
   "metadata": {},
   "outputs": [
    {
     "name": "stdout",
     "output_type": "stream",
     "text": [
      "Tests Passed\n"
     ]
    }
   ],
   "source": [
    "def get_init_cell(batch_size, rnn_size):\n",
    "    \"\"\"\n",
    "    Create an RNN Cell and initialize it.\n",
    "    :param batch_size: Size of batches\n",
    "    :param rnn_size: Size of RNNs\n",
    "    :return: Tuple (cell, initialize state)\n",
    "    \"\"\"\n",
    "    # TODO: Implement Function\n",
    "    lstm_num_layers = 2\n",
    "    lstm = tf.contrib.rnn.BasicLSTMCell(rnn_size)\n",
    "    cell = tf.contrib.rnn.MultiRNNCell([lstm] * lstm_num_layers)\n",
    "    initial_state = tf.identity(cell.zero_state(batch_size, tf.float32), name = \"initial_state\")\n",
    "    return cell, initial_state\n",
    "\n",
    "\n",
    "\"\"\"\n",
    "DON'T MODIFY ANYTHING IN THIS CELL THAT IS BELOW THIS LINE\n",
    "\"\"\"\n",
    "tests.test_get_init_cell(get_init_cell)"
   ]
  },
  {
   "cell_type": "markdown",
   "metadata": {},
   "source": [
    "### Word Embedding\n",
    "Apply embedding to `input_data` using TensorFlow.  Return the embedded sequence."
   ]
  },
  {
   "cell_type": "code",
   "execution_count": 10,
   "metadata": {},
   "outputs": [
    {
     "name": "stdout",
     "output_type": "stream",
     "text": [
      "Tests Passed\n"
     ]
    }
   ],
   "source": [
    "def get_embed(input_data, vocab_size, embed_dim):\n",
    "    \"\"\"\n",
    "    Create embedding for <input_data>.\n",
    "    :param input_data: TF placeholder for text input.\n",
    "    :param vocab_size: Number of words in vocabulary.\n",
    "    :param embed_dim: Number of embedding dimensions\n",
    "    :return: Embedded input.\n",
    "    \"\"\"\n",
    "    # TODO: Implement Function\n",
    "    embed_input = tf.Variable(tf.truncated_normal((vocab_size, embed_dim), stddev = 0.01))\n",
    "    embed_input = tf.nn.embedding_lookup(embed_input, input_data)\n",
    "    \n",
    "    return embed_input\n",
    "\n",
    "\n",
    "\"\"\"\n",
    "DON'T MODIFY ANYTHING IN THIS CELL THAT IS BELOW THIS LINE\n",
    "\"\"\"\n",
    "tests.test_get_embed(get_embed)"
   ]
  },
  {
   "cell_type": "markdown",
   "metadata": {},
   "source": [
    "### Build RNN\n",
    "You created a RNN Cell in the `get_init_cell()` function.  Time to use the cell to create a RNN.\n",
    "- Build the RNN using the [`tf.nn.dynamic_rnn()`](https://www.tensorflow.org/api_docs/python/tf/nn/dynamic_rnn)\n",
    " - Apply the name \"final_state\" to the final state using [`tf.identity()`](https://www.tensorflow.org/api_docs/python/tf/identity)\n",
    "\n",
    "Return the outputs and final_state state in the following tuple `(Outputs, FinalState)` "
   ]
  },
  {
   "cell_type": "code",
   "execution_count": 11,
   "metadata": {},
   "outputs": [
    {
     "name": "stdout",
     "output_type": "stream",
     "text": [
      "Tests Passed\n"
     ]
    }
   ],
   "source": [
    "def build_rnn(cell, inputs):\n",
    "    \"\"\"\n",
    "    Create a RNN using a RNN Cell\n",
    "    :param cell: RNN Cell\n",
    "    :param inputs: Input text data\n",
    "    :return: Tuple (Outputs, Final State)\n",
    "    \"\"\"\n",
    "    # TODO: Implement Function\n",
    "    \n",
    "    Outputs, final_state = tf.nn.dynamic_rnn(cell, inputs, dtype = tf.float32)\n",
    "    final_state = tf.identity(final_state, 'final_state')\n",
    "    \n",
    "    return Outputs, final_state\n",
    "\n",
    "\n",
    "\"\"\"\n",
    "DON'T MODIFY ANYTHING IN THIS CELL THAT IS BELOW THIS LINE\n",
    "\"\"\"\n",
    "tests.test_build_rnn(build_rnn)"
   ]
  },
  {
   "cell_type": "markdown",
   "metadata": {},
   "source": [
    "### Build the Neural Network\n",
    "Apply the functions you implemented above to:\n",
    "- Apply embedding to `input_data` using your `get_embed(input_data, vocab_size, embed_dim)` function.\n",
    "- Build RNN using `cell` and your `build_rnn(cell, inputs)` function.\n",
    "- Apply a fully connected layer with a linear activation and `vocab_size` as the number of outputs.\n",
    "\n",
    "Return the logits and final state in the following tuple (Logits, FinalState) "
   ]
  },
  {
   "cell_type": "code",
   "execution_count": 12,
   "metadata": {},
   "outputs": [
    {
     "name": "stdout",
     "output_type": "stream",
     "text": [
      "Tests Passed\n"
     ]
    }
   ],
   "source": [
    "def build_nn(cell, rnn_size, input_data, vocab_size, embed_dim):\n",
    "    \"\"\"\n",
    "    Build part of the neural network\n",
    "    :param cell: RNN cell\n",
    "    :param rnn_size: Size of rnns\n",
    "    :param input_data: Input data\n",
    "    :param vocab_size: Vocabulary size\n",
    "    :param embed_dim: Number of embedding dimensions\n",
    "    :return: Tuple (Logits, FinalState)\n",
    "    \"\"\"\n",
    "    # TODO: Implement Function\n",
    "    embed = get_embed(input_data, vocab_size, embed_dim)\n",
    "    outputs, final_state = build_rnn(cell, embed)\n",
    "    logits = tf.contrib.layers.fully_connected(outputs, vocab_size, activation_fn=None)\n",
    "    \n",
    "    return logits, final_state\n",
    "\n",
    "\n",
    "\"\"\"\n",
    "DON'T MODIFY ANYTHING IN THIS CELL THAT IS BELOW THIS LINE\n",
    "\"\"\"\n",
    "tests.test_build_nn(build_nn)"
   ]
  },
  {
   "cell_type": "markdown",
   "metadata": {},
   "source": [
    "### Batches\n",
    "Implement `get_batches` to create batches of input and targets using `int_text`.  The batches should be a Numpy array with the shape `(number of batches, 2, batch size, sequence length)`. Each batch contains two elements:\n",
    "- The first element is a single batch of **input** with the shape `[batch size, sequence length]`\n",
    "- The second element is a single batch of **targets** with the shape `[batch size, sequence length]`\n",
    "\n",
    "If you can't fill the last batch with enough data, drop the last batch.\n",
    "\n",
    "For example, `get_batches([1, 2, 3, 4, 5, 6, 7, 8, 9, 10, 11, 12, 13, 14, 15, 16, 17, 18, 19, 20], 3, 2)` would return a Numpy array of the following:\n",
    "```\n",
    "[\n",
    "  # First Batch\n",
    "  [\n",
    "    # Batch of Input\n",
    "    [[ 1  2], [ 7  8], [13 14]]\n",
    "    # Batch of targets\n",
    "    [[ 2  3], [ 8  9], [14 15]]\n",
    "  ]\n",
    "\n",
    "  # Second Batch\n",
    "  [\n",
    "    # Batch of Input\n",
    "    [[ 3  4], [ 9 10], [15 16]]\n",
    "    # Batch of targets\n",
    "    [[ 4  5], [10 11], [16 17]]\n",
    "  ]\n",
    "\n",
    "  # Third Batch\n",
    "  [\n",
    "    # Batch of Input\n",
    "    [[ 5  6], [11 12], [17 18]]\n",
    "    # Batch of targets\n",
    "    [[ 6  7], [12 13], [18  1]]\n",
    "  ]\n",
    "]\n",
    "```\n",
    "\n",
    "Notice that the last target value in the last batch is the first input value of the first batch. In this case, `1`. This is a common technique used when creating sequence batches, although it is rather unintuitive."
   ]
  },
  {
   "cell_type": "code",
   "execution_count": 13,
   "metadata": {
    "scrolled": true
   },
   "outputs": [
    {
     "name": "stdout",
     "output_type": "stream",
     "text": [
      "Tests Passed\n"
     ]
    }
   ],
   "source": [
    "def get_batches(int_text, batch_size, seq_length):\n",
    "    \"\"\"\n",
    "    Return batches of input and target\n",
    "    :param int_text: Text with the words replaced by their ids\n",
    "    :param batch_size: The size of batch\n",
    "    :param seq_length: The length of sequence\n",
    "    :return: Batches as a Numpy array\n",
    "    \"\"\"\n",
    "    # TODO: Implement Function\n",
    "    chara_per_batch = batch_size * seq_length\n",
    "    n_batches = len(int_text) //  chara_per_batch \n",
    "   \n",
    "    int_text = int_text[:chara_per_batch * n_batches]\n",
    "    \n",
    "    input_data = int_text\n",
    "   \n",
    "    target_data =  list()\n",
    "   \n",
    "    \n",
    "    target_data = input_data[1:]\n",
    "    target_data.append(input_data[0])\n",
    "   \n",
    "    input_data = np.asarray(input_data)\n",
    "    target_data = np.asarray(target_data)\n",
    "\n",
    "    input_Batches = np.split(input_data.reshape(batch_size, -1), n_batches, 1)\n",
    "    target_Batches = np.split(target_data.reshape(batch_size, -1), n_batches, 1)\n",
    "    \n",
    "  \n",
    "    return np.array(list(zip(input_Batches, target_Batches)))\n",
    "\n",
    "\n",
    "\n",
    "\"\"\"\n",
    "DON'T MODIFY ANYTHING IN THIS CELL THAT IS BELOW THIS LINE\n",
    "\"\"\"\n",
    "tests.test_get_batches(get_batches)"
   ]
  },
  {
   "cell_type": "markdown",
   "metadata": {},
   "source": [
    "## Neural Network Training\n",
    "### Hyperparameters\n",
    "Tune the following parameters:\n",
    "\n",
    "- Set `num_epochs` to the number of epochs.\n",
    "- Set `batch_size` to the batch size.\n",
    "- Set `rnn_size` to the size of the RNNs.\n",
    "- Set `embed_dim` to the size of the embedding.\n",
    "- Set `seq_length` to the length of sequence.\n",
    "- Set `learning_rate` to the learning rate.\n",
    "- Set `show_every_n_batches` to the number of batches the neural network should print progress."
   ]
  },
  {
   "cell_type": "code",
   "execution_count": 20,
   "metadata": {},
   "outputs": [],
   "source": [
    "# Number of Epochs\n",
    "num_epochs = 300\n",
    "# Batch Size\n",
    "batch_size = 100\n",
    "# RNN Size\n",
    "rnn_size = 128\n",
    "# Embedding Dimension Size\n",
    "embed_dim = 128\n",
    "# Sequence Length\n",
    "seq_length = 10\n",
    "# Learning Rate\n",
    "learning_rate = 0.001\n",
    "# Show stats for every n number of batches\n",
    "show_every_n_batches = 100\n",
    "\n",
    "\"\"\"\n",
    "DON'T MODIFY ANYTHING IN THIS CELL THAT IS BELOW THIS LINE\n",
    "\"\"\"\n",
    "save_dir = './save'"
   ]
  },
  {
   "cell_type": "markdown",
   "metadata": {},
   "source": [
    "### Build the Graph\n",
    "Build the graph using the neural network you implemented."
   ]
  },
  {
   "cell_type": "code",
   "execution_count": 21,
   "metadata": {},
   "outputs": [],
   "source": [
    "\"\"\"\n",
    "DON'T MODIFY ANYTHING IN THIS CELL\n",
    "\"\"\"\n",
    "from tensorflow.contrib import seq2seq\n",
    "\n",
    "train_graph = tf.Graph()\n",
    "with train_graph.as_default():\n",
    "    vocab_size = len(int_to_vocab)\n",
    "    input_text, targets, lr = get_inputs()\n",
    "    input_data_shape = tf.shape(input_text)\n",
    "    cell, initial_state = get_init_cell(input_data_shape[0], rnn_size)\n",
    "    logits, final_state = build_nn(cell, rnn_size, input_text, vocab_size, embed_dim)\n",
    "\n",
    "    # Probabilities for generating words\n",
    "    probs = tf.nn.softmax(logits, name='probs')\n",
    "\n",
    "    # Loss function\n",
    "    cost = seq2seq.sequence_loss(\n",
    "        logits,\n",
    "        targets,\n",
    "        tf.ones([input_data_shape[0], input_data_shape[1]]))\n",
    "\n",
    "    # Optimizer\n",
    "    optimizer = tf.train.AdamOptimizer(lr)\n",
    "\n",
    "    # Gradient Clipping\n",
    "    gradients = optimizer.compute_gradients(cost)\n",
    "    capped_gradients = [(tf.clip_by_value(grad, -1., 1.), var) for grad, var in gradients if grad is not None]\n",
    "    train_op = optimizer.apply_gradients(capped_gradients)"
   ]
  },
  {
   "cell_type": "markdown",
   "metadata": {},
   "source": [
    "## Train\n",
    "Train the neural network on the preprocessed data.  If you have a hard time getting a good loss, check the [forums](https://discussions.udacity.com/) to see if anyone is having the same problem."
   ]
  },
  {
   "cell_type": "code",
   "execution_count": 22,
   "metadata": {},
   "outputs": [
    {
     "name": "stdout",
     "output_type": "stream",
     "text": [
      "Epoch   0 Batch    0/69   train_loss = 8.822\n",
      "Epoch   1 Batch   31/69   train_loss = 6.138\n",
      "Epoch   2 Batch   62/69   train_loss = 5.983\n",
      "Epoch   4 Batch   24/69   train_loss = 5.987\n",
      "Epoch   5 Batch   55/69   train_loss = 5.950\n",
      "Epoch   7 Batch   17/69   train_loss = 6.091\n",
      "Epoch   8 Batch   48/69   train_loss = 6.134\n",
      "Epoch  10 Batch   10/69   train_loss = 6.085\n",
      "Epoch  11 Batch   41/69   train_loss = 5.996\n",
      "Epoch  13 Batch    3/69   train_loss = 5.899\n",
      "Epoch  14 Batch   34/69   train_loss = 5.896\n",
      "Epoch  15 Batch   65/69   train_loss = 5.521\n",
      "Epoch  17 Batch   27/69   train_loss = 5.491\n",
      "Epoch  18 Batch   58/69   train_loss = 5.551\n",
      "Epoch  20 Batch   20/69   train_loss = 5.285\n",
      "Epoch  21 Batch   51/69   train_loss = 5.206\n",
      "Epoch  23 Batch   13/69   train_loss = 5.148\n",
      "Epoch  24 Batch   44/69   train_loss = 4.942\n",
      "Epoch  26 Batch    6/69   train_loss = 4.995\n",
      "Epoch  27 Batch   37/69   train_loss = 4.752\n",
      "Epoch  28 Batch   68/69   train_loss = 4.783\n",
      "Epoch  30 Batch   30/69   train_loss = 4.663\n",
      "Epoch  31 Batch   61/69   train_loss = 4.698\n",
      "Epoch  33 Batch   23/69   train_loss = 4.516\n",
      "Epoch  34 Batch   54/69   train_loss = 4.511\n",
      "Epoch  36 Batch   16/69   train_loss = 4.501\n",
      "Epoch  37 Batch   47/69   train_loss = 4.400\n",
      "Epoch  39 Batch    9/69   train_loss = 4.497\n",
      "Epoch  40 Batch   40/69   train_loss = 4.292\n",
      "Epoch  42 Batch    2/69   train_loss = 4.301\n",
      "Epoch  43 Batch   33/69   train_loss = 4.389\n",
      "Epoch  44 Batch   64/69   train_loss = 4.208\n",
      "Epoch  46 Batch   26/69   train_loss = 4.049\n",
      "Epoch  47 Batch   57/69   train_loss = 4.001\n",
      "Epoch  49 Batch   19/69   train_loss = 4.241\n",
      "Epoch  50 Batch   50/69   train_loss = 3.999\n",
      "Epoch  52 Batch   12/69   train_loss = 3.937\n",
      "Epoch  53 Batch   43/69   train_loss = 3.995\n",
      "Epoch  55 Batch    5/69   train_loss = 3.801\n",
      "Epoch  56 Batch   36/69   train_loss = 3.846\n",
      "Epoch  57 Batch   67/69   train_loss = 3.820\n",
      "Epoch  59 Batch   29/69   train_loss = 3.774\n",
      "Epoch  60 Batch   60/69   train_loss = 3.783\n",
      "Epoch  62 Batch   22/69   train_loss = 3.822\n",
      "Epoch  63 Batch   53/69   train_loss = 3.538\n",
      "Epoch  65 Batch   15/69   train_loss = 3.699\n",
      "Epoch  66 Batch   46/69   train_loss = 3.632\n",
      "Epoch  68 Batch    8/69   train_loss = 3.468\n",
      "Epoch  69 Batch   39/69   train_loss = 3.553\n",
      "Epoch  71 Batch    1/69   train_loss = 3.495\n",
      "Epoch  72 Batch   32/69   train_loss = 3.496\n",
      "Epoch  73 Batch   63/69   train_loss = 3.434\n",
      "Epoch  75 Batch   25/69   train_loss = 3.404\n",
      "Epoch  76 Batch   56/69   train_loss = 3.447\n",
      "Epoch  78 Batch   18/69   train_loss = 3.316\n",
      "Epoch  79 Batch   49/69   train_loss = 3.289\n",
      "Epoch  81 Batch   11/69   train_loss = 3.237\n",
      "Epoch  82 Batch   42/69   train_loss = 3.201\n",
      "Epoch  84 Batch    4/69   train_loss = 3.255\n",
      "Epoch  85 Batch   35/69   train_loss = 3.202\n",
      "Epoch  86 Batch   66/69   train_loss = 3.109\n",
      "Epoch  88 Batch   28/69   train_loss = 3.049\n",
      "Epoch  89 Batch   59/69   train_loss = 2.992\n",
      "Epoch  91 Batch   21/69   train_loss = 3.025\n",
      "Epoch  92 Batch   52/69   train_loss = 2.930\n",
      "Epoch  94 Batch   14/69   train_loss = 2.889\n",
      "Epoch  95 Batch   45/69   train_loss = 2.949\n",
      "Epoch  97 Batch    7/69   train_loss = 2.962\n",
      "Epoch  98 Batch   38/69   train_loss = 2.812\n",
      "Epoch 100 Batch    0/69   train_loss = 2.788\n",
      "Epoch 101 Batch   31/69   train_loss = 2.852\n",
      "Epoch 102 Batch   62/69   train_loss = 2.776\n",
      "Epoch 104 Batch   24/69   train_loss = 2.683\n",
      "Epoch 105 Batch   55/69   train_loss = 2.750\n",
      "Epoch 107 Batch   17/69   train_loss = 2.699\n",
      "Epoch 108 Batch   48/69   train_loss = 2.700\n",
      "Epoch 110 Batch   10/69   train_loss = 2.576\n",
      "Epoch 111 Batch   41/69   train_loss = 2.664\n",
      "Epoch 113 Batch    3/69   train_loss = 2.544\n",
      "Epoch 114 Batch   34/69   train_loss = 2.565\n",
      "Epoch 115 Batch   65/69   train_loss = 2.506\n",
      "Epoch 117 Batch   27/69   train_loss = 2.507\n",
      "Epoch 118 Batch   58/69   train_loss = 2.514\n",
      "Epoch 120 Batch   20/69   train_loss = 2.517\n",
      "Epoch 121 Batch   51/69   train_loss = 2.325\n",
      "Epoch 123 Batch   13/69   train_loss = 2.352\n",
      "Epoch 124 Batch   44/69   train_loss = 2.492\n",
      "Epoch 126 Batch    6/69   train_loss = 2.414\n",
      "Epoch 127 Batch   37/69   train_loss = 2.452\n",
      "Epoch 128 Batch   68/69   train_loss = 2.463\n",
      "Epoch 130 Batch   30/69   train_loss = 2.368\n",
      "Epoch 131 Batch   61/69   train_loss = 2.378\n",
      "Epoch 133 Batch   23/69   train_loss = 2.313\n",
      "Epoch 134 Batch   54/69   train_loss = 2.313\n",
      "Epoch 136 Batch   16/69   train_loss = 2.355\n",
      "Epoch 137 Batch   47/69   train_loss = 2.147\n",
      "Epoch 139 Batch    9/69   train_loss = 2.279\n",
      "Epoch 140 Batch   40/69   train_loss = 2.215\n",
      "Epoch 142 Batch    2/69   train_loss = 2.214\n",
      "Epoch 143 Batch   33/69   train_loss = 2.225\n",
      "Epoch 144 Batch   64/69   train_loss = 2.182\n",
      "Epoch 146 Batch   26/69   train_loss = 2.149\n",
      "Epoch 147 Batch   57/69   train_loss = 2.108\n",
      "Epoch 149 Batch   19/69   train_loss = 2.177\n",
      "Epoch 150 Batch   50/69   train_loss = 2.008\n",
      "Epoch 152 Batch   12/69   train_loss = 2.069\n",
      "Epoch 153 Batch   43/69   train_loss = 2.013\n",
      "Epoch 155 Batch    5/69   train_loss = 2.005\n",
      "Epoch 156 Batch   36/69   train_loss = 1.817\n",
      "Epoch 157 Batch   67/69   train_loss = 1.893\n",
      "Epoch 159 Batch   29/69   train_loss = 2.008\n",
      "Epoch 160 Batch   60/69   train_loss = 1.844\n",
      "Epoch 162 Batch   22/69   train_loss = 1.997\n",
      "Epoch 163 Batch   53/69   train_loss = 1.769\n",
      "Epoch 165 Batch   15/69   train_loss = 1.942\n",
      "Epoch 166 Batch   46/69   train_loss = 1.728\n",
      "Epoch 168 Batch    8/69   train_loss = 1.781\n",
      "Epoch 169 Batch   39/69   train_loss = 1.821\n",
      "Epoch 171 Batch    1/69   train_loss = 1.876\n",
      "Epoch 172 Batch   32/69   train_loss = 1.844\n",
      "Epoch 173 Batch   63/69   train_loss = 1.812\n",
      "Epoch 175 Batch   25/69   train_loss = 1.824\n",
      "Epoch 176 Batch   56/69   train_loss = 1.714\n",
      "Epoch 178 Batch   18/69   train_loss = 1.718\n",
      "Epoch 179 Batch   49/69   train_loss = 1.695\n",
      "Epoch 181 Batch   11/69   train_loss = 1.649\n",
      "Epoch 182 Batch   42/69   train_loss = 1.868\n",
      "Epoch 184 Batch    4/69   train_loss = 1.635\n",
      "Epoch 185 Batch   35/69   train_loss = 1.718\n",
      "Epoch 186 Batch   66/69   train_loss = 1.555\n",
      "Epoch 188 Batch   28/69   train_loss = 1.688\n",
      "Epoch 189 Batch   59/69   train_loss = 1.605\n",
      "Epoch 191 Batch   21/69   train_loss = 1.587\n",
      "Epoch 192 Batch   52/69   train_loss = 1.608\n",
      "Epoch 194 Batch   14/69   train_loss = 1.569\n",
      "Epoch 195 Batch   45/69   train_loss = 1.594\n",
      "Epoch 197 Batch    7/69   train_loss = 1.563\n",
      "Epoch 198 Batch   38/69   train_loss = 1.558\n",
      "Epoch 200 Batch    0/69   train_loss = 1.546\n",
      "Epoch 201 Batch   31/69   train_loss = 1.543\n",
      "Epoch 202 Batch   62/69   train_loss = 1.496\n",
      "Epoch 204 Batch   24/69   train_loss = 1.476\n",
      "Epoch 205 Batch   55/69   train_loss = 1.564\n",
      "Epoch 207 Batch   17/69   train_loss = 1.367\n",
      "Epoch 208 Batch   48/69   train_loss = 1.424\n",
      "Epoch 210 Batch   10/69   train_loss = 1.385\n",
      "Epoch 211 Batch   41/69   train_loss = 1.447\n",
      "Epoch 213 Batch    3/69   train_loss = 1.329\n",
      "Epoch 214 Batch   34/69   train_loss = 1.393\n",
      "Epoch 215 Batch   65/69   train_loss = 1.350\n",
      "Epoch 217 Batch   27/69   train_loss = 1.386\n",
      "Epoch 218 Batch   58/69   train_loss = 1.274\n",
      "Epoch 220 Batch   20/69   train_loss = 1.313\n",
      "Epoch 221 Batch   51/69   train_loss = 1.218\n",
      "Epoch 223 Batch   13/69   train_loss = 1.202\n",
      "Epoch 224 Batch   44/69   train_loss = 1.409\n",
      "Epoch 226 Batch    6/69   train_loss = 1.289\n",
      "Epoch 227 Batch   37/69   train_loss = 1.372\n",
      "Epoch 228 Batch   68/69   train_loss = 1.379\n",
      "Epoch 230 Batch   30/69   train_loss = 1.352\n",
      "Epoch 231 Batch   61/69   train_loss = 1.259\n",
      "Epoch 233 Batch   23/69   train_loss = 1.244\n",
      "Epoch 234 Batch   54/69   train_loss = 1.238\n",
      "Epoch 236 Batch   16/69   train_loss = 1.316\n",
      "Epoch 237 Batch   47/69   train_loss = 1.135\n",
      "Epoch 239 Batch    9/69   train_loss = 1.244\n",
      "Epoch 240 Batch   40/69   train_loss = 1.222\n",
      "Epoch 242 Batch    2/69   train_loss = 1.240\n",
      "Epoch 243 Batch   33/69   train_loss = 1.277\n",
      "Epoch 244 Batch   64/69   train_loss = 1.216\n",
      "Epoch 246 Batch   26/69   train_loss = 1.194\n",
      "Epoch 247 Batch   57/69   train_loss = 1.235\n",
      "Epoch 249 Batch   19/69   train_loss = 1.144\n",
      "Epoch 250 Batch   50/69   train_loss = 1.164\n",
      "Epoch 252 Batch   12/69   train_loss = 1.265\n",
      "Epoch 253 Batch   43/69   train_loss = 1.125\n",
      "Epoch 255 Batch    5/69   train_loss = 1.160\n",
      "Epoch 256 Batch   36/69   train_loss = 1.005\n",
      "Epoch 257 Batch   67/69   train_loss = 1.100\n",
      "Epoch 259 Batch   29/69   train_loss = 1.219\n",
      "Epoch 260 Batch   60/69   train_loss = 1.022\n",
      "Epoch 262 Batch   22/69   train_loss = 1.080\n",
      "Epoch 263 Batch   53/69   train_loss = 1.059\n"
     ]
    },
    {
     "name": "stdout",
     "output_type": "stream",
     "text": [
      "Epoch 265 Batch   15/69   train_loss = 1.157\n",
      "Epoch 266 Batch   46/69   train_loss = 0.988\n",
      "Epoch 268 Batch    8/69   train_loss = 1.059\n",
      "Epoch 269 Batch   39/69   train_loss = 1.034\n",
      "Epoch 271 Batch    1/69   train_loss = 1.105\n",
      "Epoch 272 Batch   32/69   train_loss = 1.010\n",
      "Epoch 273 Batch   63/69   train_loss = 1.072\n",
      "Epoch 275 Batch   25/69   train_loss = 1.053\n",
      "Epoch 276 Batch   56/69   train_loss = 1.025\n",
      "Epoch 278 Batch   18/69   train_loss = 1.002\n",
      "Epoch 279 Batch   49/69   train_loss = 0.961\n",
      "Epoch 281 Batch   11/69   train_loss = 0.988\n",
      "Epoch 282 Batch   42/69   train_loss = 1.139\n",
      "Epoch 284 Batch    4/69   train_loss = 0.927\n",
      "Epoch 285 Batch   35/69   train_loss = 0.997\n",
      "Epoch 286 Batch   66/69   train_loss = 0.957\n",
      "Epoch 288 Batch   28/69   train_loss = 1.040\n",
      "Epoch 289 Batch   59/69   train_loss = 1.042\n",
      "Epoch 291 Batch   21/69   train_loss = 0.952\n",
      "Epoch 292 Batch   52/69   train_loss = 0.978\n",
      "Epoch 294 Batch   14/69   train_loss = 0.987\n",
      "Epoch 295 Batch   45/69   train_loss = 0.969\n",
      "Epoch 297 Batch    7/69   train_loss = 0.980\n",
      "Epoch 298 Batch   38/69   train_loss = 0.948\n",
      "Model Trained and Saved\n"
     ]
    }
   ],
   "source": [
    "\"\"\"\n",
    "DON'T MODIFY ANYTHING IN THIS CELL\n",
    "\"\"\"\n",
    "batches = get_batches(int_text, batch_size, seq_length)\n",
    "\n",
    "with tf.Session(graph=train_graph) as sess:\n",
    "    sess.run(tf.global_variables_initializer())\n",
    "\n",
    "    for epoch_i in range(num_epochs):\n",
    "        state = sess.run(initial_state, {input_text: batches[0][0]})\n",
    "\n",
    "        for batch_i, (x, y) in enumerate(batches):\n",
    "            feed = {\n",
    "                input_text: x,\n",
    "                targets: y,\n",
    "                initial_state: state,\n",
    "                lr: learning_rate}\n",
    "            train_loss, state, _ = sess.run([cost, final_state, train_op], feed)\n",
    "\n",
    "            # Show every <show_every_n_batches> batches\n",
    "            if (epoch_i * len(batches) + batch_i) % show_every_n_batches == 0:\n",
    "                print('Epoch {:>3} Batch {:>4}/{}   train_loss = {:.3f}'.format(\n",
    "                    epoch_i,\n",
    "                    batch_i,\n",
    "                    len(batches),\n",
    "                    train_loss))\n",
    "\n",
    "    # Save Model\n",
    "    saver = tf.train.Saver()\n",
    "    saver.save(sess, save_dir)\n",
    "    print('Model Trained and Saved')"
   ]
  },
  {
   "cell_type": "markdown",
   "metadata": {},
   "source": [
    "## Save Parameters\n",
    "Save `seq_length` and `save_dir` for generating a new TV script."
   ]
  },
  {
   "cell_type": "code",
   "execution_count": 23,
   "metadata": {},
   "outputs": [],
   "source": [
    "\"\"\"\n",
    "DON'T MODIFY ANYTHING IN THIS CELL\n",
    "\"\"\"\n",
    "# Save parameters for checkpoint\n",
    "helper.save_params((seq_length, save_dir))"
   ]
  },
  {
   "cell_type": "markdown",
   "metadata": {},
   "source": [
    "# Checkpoint"
   ]
  },
  {
   "cell_type": "code",
   "execution_count": 24,
   "metadata": {},
   "outputs": [],
   "source": [
    "\"\"\"\n",
    "DON'T MODIFY ANYTHING IN THIS CELL\n",
    "\"\"\"\n",
    "import tensorflow as tf\n",
    "import numpy as np\n",
    "import helper\n",
    "import problem_unittests as tests\n",
    "\n",
    "_, vocab_to_int, int_to_vocab, token_dict = helper.load_preprocess()\n",
    "seq_length, load_dir = helper.load_params()"
   ]
  },
  {
   "cell_type": "markdown",
   "metadata": {},
   "source": [
    "## Implement Generate Functions\n",
    "### Get Tensors\n",
    "Get tensors from `loaded_graph` using the function [`get_tensor_by_name()`](https://www.tensorflow.org/api_docs/python/tf/Graph#get_tensor_by_name).  Get the tensors using the following names:\n",
    "- \"input:0\"\n",
    "- \"initial_state:0\"\n",
    "- \"final_state:0\"\n",
    "- \"probs:0\"\n",
    "\n",
    "Return the tensors in the following tuple `(InputTensor, InitialStateTensor, FinalStateTensor, ProbsTensor)` "
   ]
  },
  {
   "cell_type": "code",
   "execution_count": 25,
   "metadata": {},
   "outputs": [
    {
     "name": "stdout",
     "output_type": "stream",
     "text": [
      "Tests Passed\n"
     ]
    }
   ],
   "source": [
    "def get_tensors(loaded_graph):\n",
    "    \"\"\"\n",
    "    Get input, initial state, final state, and probabilities tensor from <loaded_graph>\n",
    "    :param loaded_graph: TensorFlow graph loaded from file\n",
    "    :return: Tuple (InputTensor, InitialStateTensor, FinalStateTensor, ProbsTensor)\n",
    "    \"\"\"\n",
    "    # TODO: Implement Function\n",
    "    input = loaded_graph.get_tensor_by_name('input:0')\n",
    "    initial_state = loaded_graph.get_tensor_by_name('initial_state:0')\n",
    "    final_state = loaded_graph.get_tensor_by_name('final_state:0')\n",
    "    probs = loaded_graph.get_tensor_by_name('probs:0')\n",
    "    \n",
    "    return input, initial_state, final_state, probs\n",
    "\n",
    "\n",
    "\"\"\"\n",
    "DON'T MODIFY ANYTHING IN THIS CELL THAT IS BELOW THIS LINE\n",
    "\"\"\"\n",
    "tests.test_get_tensors(get_tensors)"
   ]
  },
  {
   "cell_type": "markdown",
   "metadata": {},
   "source": [
    "### Choose Word\n",
    "Implement the `pick_word()` function to select the next word using `probabilities`."
   ]
  },
  {
   "cell_type": "code",
   "execution_count": 26,
   "metadata": {},
   "outputs": [
    {
     "name": "stdout",
     "output_type": "stream",
     "text": [
      "Tests Passed\n"
     ]
    }
   ],
   "source": [
    "def pick_word(probabilities, int_to_vocab):\n",
    "    \"\"\"\n",
    "    Pick the next word in the generated text\n",
    "    :param probabilities: Probabilites of the next word\n",
    "    :param int_to_vocab: Dictionary of word ids as the keys and words as the values\n",
    "    :return: String of the predicted word\n",
    "    \"\"\"\n",
    "    # TODO: Implement Function\n",
    "    id = np.random.choice(len(probabilities), p = probabilities)\n",
    "    return int_to_vocab[id]\n",
    "\n",
    "\n",
    "\"\"\"\n",
    "DON'T MODIFY ANYTHING IN THIS CELL THAT IS BELOW THIS LINE\n",
    "\"\"\"\n",
    "tests.test_pick_word(pick_word)"
   ]
  },
  {
   "cell_type": "markdown",
   "metadata": {},
   "source": [
    "## Generate TV Script\n",
    "This will generate the TV script for you.  Set `gen_length` to the length of TV script you want to generate."
   ]
  },
  {
   "cell_type": "code",
   "execution_count": 27,
   "metadata": {},
   "outputs": [
    {
     "name": "stdout",
     "output_type": "stream",
     "text": [
      "INFO:tensorflow:Restoring parameters from ./save\n",
      "moe_szyslak:(snide.\"\n",
      "moe_szyslak: guys, i stop that! but?(to moe) her was an idealistic and augustus santa in the sweet room, but\n",
      "homer_simpson: he's you are go your tune into a good clothes.\n",
      "homer_simpson: no. there's one night there that hurt with park there tonight show so! x-men princess and money some friend?\n",
      "bart_simpson: oh no, come on, until ya been before i shot. you still turn up this than.\n",
      "barney_gumble: uh, can you still leave it?\n",
      "dr. _kissingher: if just watching the 10:15 stinkin' have to do!\n",
      "homer_simpson: don't worry! they're sure all no around you-- and my time has you gone were an air guy.\n",
      "barney_gumble: and when i got something i ever flown for too!\n",
      "moe_szyslak: yeah, moe. you were a poor through to moe's cappuccino machine. here pull so hold?\n",
      "marge_simpson:(glowers) don't you has to let your most twenty back from homer,... but if he came to a gay word clear\n"
     ]
    }
   ],
   "source": [
    "gen_length = 200\n",
    "# homer_simpson, moe_szyslak, or Barney_Gumble\n",
    "prime_word = 'moe_szyslak'\n",
    "\n",
    "\"\"\"\n",
    "DON'T MODIFY ANYTHING IN THIS CELL THAT IS BELOW THIS LINE\n",
    "\"\"\"\n",
    "loaded_graph = tf.Graph()\n",
    "with tf.Session(graph=loaded_graph) as sess:\n",
    "    # Load saved model\n",
    "    loader = tf.train.import_meta_graph(load_dir + '.meta')\n",
    "    loader.restore(sess, load_dir)\n",
    "\n",
    "    # Get Tensors from loaded model\n",
    "    input_text, initial_state, final_state, probs = get_tensors(loaded_graph)\n",
    "\n",
    "    # Sentences generation setup\n",
    "    gen_sentences = [prime_word + ':']\n",
    "    prev_state = sess.run(initial_state, {input_text: np.array([[1]])})\n",
    "\n",
    "    # Generate sentences\n",
    "    for n in range(gen_length):\n",
    "        # Dynamic Input\n",
    "        dyn_input = [[vocab_to_int[word] for word in gen_sentences[-seq_length:]]]\n",
    "        dyn_seq_length = len(dyn_input[0])\n",
    "\n",
    "        # Get Prediction\n",
    "        probabilities, prev_state = sess.run(\n",
    "            [probs, final_state],\n",
    "            {input_text: dyn_input, initial_state: prev_state})\n",
    "        \n",
    "        pred_word = pick_word(probabilities[0][dyn_seq_length-1], int_to_vocab)\n",
    "\n",
    "        gen_sentences.append(pred_word)\n",
    "    \n",
    "    # Remove tokens\n",
    "    tv_script = ' '.join(gen_sentences)\n",
    "    for key, token in token_dict.items():\n",
    "        ending = ' ' if key in ['\\n', '(', '\"'] else ''\n",
    "        tv_script = tv_script.replace(' ' + token.lower(), key)\n",
    "    tv_script = tv_script.replace('\\n ', '\\n')\n",
    "    tv_script = tv_script.replace('( ', '(')\n",
    "        \n",
    "    print(tv_script)"
   ]
  },
  {
   "cell_type": "markdown",
   "metadata": {},
   "source": [
    "# The TV Script is Nonsensical\n",
    "It's ok if the TV script doesn't make any sense.  We trained on less than a megabyte of text.  In order to get good results, you'll have to use a smaller vocabulary or get more data.  Luckily there's more data!  As we mentioned in the beggining of this project, this is a subset of [another dataset](https://www.kaggle.com/wcukierski/the-simpsons-by-the-data).  We didn't have you train on all the data, because that would take too long.  However, you are free to train your neural network on all the data.  After you complete the project, of course.\n",
    "# Submitting This Project\n",
    "When submitting this project, make sure to run all the cells before saving the notebook. Save the notebook file as \"dlnd_tv_script_generation.ipynb\" and save it as a HTML file under \"File\" -> \"Download as\". Include the \"helper.py\" and \"problem_unittests.py\" files in your submission."
   ]
  }
 ],
 "metadata": {
  "kernelspec": {
   "display_name": "Python 3",
   "language": "python",
   "name": "python3"
  },
  "language_info": {
   "codemirror_mode": {
    "name": "ipython",
    "version": 3
   },
   "file_extension": ".py",
   "mimetype": "text/x-python",
   "name": "python",
   "nbconvert_exporter": "python",
   "pygments_lexer": "ipython3",
   "version": "3.6.3"
  },
  "widgets": {
   "state": {},
   "version": "1.1.2"
  }
 },
 "nbformat": 4,
 "nbformat_minor": 1
}
